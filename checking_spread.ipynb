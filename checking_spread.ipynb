{
 "cells": [
  {
   "cell_type": "code",
   "execution_count": 5,
   "id": "b0863fef-af71-4a9b-b78e-c9b826bcfa25",
   "metadata": {},
   "outputs": [],
   "source": [
    "load('https://raw.githubusercontent.com/cerickson30/qBound/main/spectator_floor_display_functions.py')"
   ]
  },
  {
   "cell_type": "code",
   "execution_count": 6,
   "id": "1ec03c63-1bdc-4fa6-995a-73a2e6a66466",
   "metadata": {},
   "outputs": [
    {
     "name": "stdout",
     "output_type": "stream",
     "text": [
      "Importing full uspcm_dict...\n",
      "Full uspcm_dict has been imported.\n"
     ]
    }
   ],
   "source": [
    "print('Importing full uspcm_dict...')\n",
    "\n",
    "full_uspcm_dict = get_full_uspcm_dict()\n",
    "    \n",
    "print('Full uspcm_dict has been imported.')"
   ]
  },
  {
   "cell_type": "code",
   "execution_count": 7,
   "id": "4d5615a3-e84f-4022-8072-4d4440316307",
   "metadata": {},
   "outputs": [
    {
     "name": "stderr",
     "output_type": "stream",
     "text": [
      "ld: warning: -pie being ignored. It is only used when linking a main executable\n"
     ]
    }
   ],
   "source": [
    "%%cython # use cython to speed up computations -- This jupyter magic call cannot be in a .py script file\n",
    "\n",
    "# use garbage collection to manage memory usage\n",
    "import gc\n",
    "gc.enable()\n",
    "\n",
    "\n",
    "def usp_comp(amat):\n",
    "    \"\"\" Return the spectator number of the graph, which is defined to be\n",
    "    the size of the smallest unique-shortest-path complement of a graph.\n",
    "    \n",
    "    :param amat: A graph or adjacency matrix of a graph.\n",
    "    \"\"\"\n",
    "    # Accept graph or matrix input\n",
    "    try:\n",
    "        # Get size from the number of columns, if amat is a matrix\n",
    "        nn = amat.ncols()\n",
    "    except AttributeError:\n",
    "        # If amat is a graph or graph6_string, convert to adjacency matrix\n",
    "        amat = amat.adjacency_matrix()\n",
    "        # Get size from number of colummns\n",
    "        nn = amat.ncols()\n",
    "    if not amat:\n",
    "        return nn - 1\n",
    "    \n",
    "    # Use fact that (i,j)-entry of A^k is the number of i-j walks of length k\n",
    "    # to determine the length of the longest unique shortest path (the largest k\n",
    "    # for which there exists an (i,j)-entry of A^k equal to 1.)\n",
    "    A = amat + 2\n",
    "    AA = A + 0\n",
    "    compsize = nn - 1\n",
    "    while min(min([yy for yy in xx if yy]) for xx in AA) == 1:\n",
    "        compsize -= 1\n",
    "        AA = AA*A\n",
    "    \n",
    "    return compsize\n",
    "\n",
    "\n",
    "\n",
    "def Glabel(G):\n",
    "    \"\"\"\n",
    "    Returns the graph6_string of the canonical labeling of graph G using the sage algorithm\n",
    "    to determine the canonical labeling.\n",
    "    \n",
    "    :param G: A graph object.\n",
    "    \"\"\"\n",
    "    return G.canonical_label(algorithm='sage').graph6_string()\n",
    "\n",
    "\n",
    "def edgeclasses(G):\n",
    "    \"\"\"\n",
    "    Generator function to generate the automorphism groups of the edges in graph G.\n",
    "    \n",
    "    :param G: A graph object.\n",
    "    \"\"\"\n",
    "    Aut = G.automorphism_group()\n",
    "    needs = {(xx[0], xx[1]): True for xx in G.edges()}\n",
    "    while needs:\n",
    "        anedge = next(iter(needs))\n",
    "        yield anedge\n",
    "        for xx in Aut.orbit(anedge, action='OnPairs'):\n",
    "            if (xx[0], xx[1]) in needs:\n",
    "                del needs[(xx[0], xx[1])]\n",
    "            if (xx[1], xx[0]) in needs:\n",
    "                del needs[(xx[1], xx[0])]\n",
    "\n",
    "                \n",
    "def deletions(G):\n",
    "    \"\"\"\n",
    "    Generator function to generate the minors of G which are achievable by deleting a single edge\n",
    "    from G.\n",
    "    Returns the graph6_string of the canonical labeling.\n",
    "    \n",
    "    :param G: A graph object.\n",
    "    \"\"\"\n",
    "    for ed in edgeclasses(G):\n",
    "        H = G.copy()\n",
    "        H.delete_edge(ed)\n",
    "        yield Glabel(H)\n",
    "\n",
    "        \n",
    "def contractions(G):\n",
    "    \"\"\"\n",
    "    Generator function to generate the minors of G which are achievable by either contracting a single\n",
    "    edge in G or deleting a single isolated vertex in G.\n",
    "    Returns the graph6_string of the canonical labeling.\n",
    "    \n",
    "    :param G: A graph object.\n",
    "    \"\"\"\n",
    "    for ed in edgeclasses(G):\n",
    "        H = G.copy()\n",
    "        H.contract_edge(ed)\n",
    "        yield Glabel(H)\n",
    "    # Also covers isolated vertex deletion\n",
    "    if 0 in G.degree():\n",
    "        H = G.copy()\n",
    "        H.delete_vertex(G.degree().index(0))\n",
    "        yield Glabel(H)"
   ]
  },
  {
   "cell_type": "code",
   "execution_count": 8,
   "id": "1473dae6-8b41-4f40-a018-ecc5e0ac2d66",
   "metadata": {},
   "outputs": [],
   "source": [
    "def progressBar(iterable, prefix = '', suffix = '', decimals = 1, length = 100, fill = '█', printEnd = \"\\r\"):\n",
    "    import datetime\n",
    "    \"\"\"\n",
    "    Call in a loop to create terminal progress bar\n",
    "    @params:\n",
    "        iteration   - Required  : current iteration (Int)\n",
    "        total       - Required  : total iterations (Int)\n",
    "        prefix      - Optional  : prefix string (Str)\n",
    "        suffix      - Optional  : suffix string (Str)\n",
    "        decimals    - Optional  : positive number of decimals in percent complete (Int)\n",
    "        length      - Optional  : character length of bar (Int)\n",
    "        fill        - Optional  : bar fill character (Str)\n",
    "        printEnd    - Optional  : end character (e.g. \"\\r\", \"\\r\\n\") (Str)\n",
    "    \"\"\"\n",
    "    total = len(iterable)\n",
    "    # Progress Bar Printing Function\n",
    "    def printProgressBar(iteration):\n",
    "        try:\n",
    "            percent = (\"{0:.\" + str(decimals) + \"f}\").format(100 * (iteration / float(total)))\n",
    "            filledLength = int(length * iteration // total)\n",
    "        except ZeroDivisionError:\n",
    "            percent = 100\n",
    "            filledLength = length\n",
    "        \n",
    "        bar = fill * filledLength + '-' * (length - filledLength)\n",
    "        print(f'\\r{datetime.datetime.now().strftime(\"%Y-%m-%d %H:%M:%S\")} {prefix} |{bar}| {percent}% {suffix}', end = printEnd, flush=False)\n",
    "    # Initial Call\n",
    "    printProgressBar(0)\n",
    "    # Update Progress Bar\n",
    "    for i, item in enumerate(iterable):\n",
    "        yield item\n",
    "        printProgressBar(i + 1)\n",
    "    # Print New Line on Complete\n",
    "    print()"
   ]
  },
  {
   "cell_type": "code",
   "execution_count": 9,
   "id": "c4b116e3-bf2e-4037-ad72-b2151ca28b9c",
   "metadata": {},
   "outputs": [
    {
     "data": {
      "text/plain": [
       "dict_keys(['0_verts', '1_verts', '2_verts', '3_verts', '4_verts', '5_verts', '6_verts', '7_verts', '8_verts', '9_verts', '10_verts'])"
      ]
     },
     "execution_count": 9,
     "metadata": {},
     "output_type": "execute_result"
    }
   ],
   "source": [
    "full_uspcm_dict.keys()"
   ]
  },
  {
   "cell_type": "code",
   "execution_count": 11,
   "id": "43f3f4d7-3493-4450-951a-b1dc9c432bf9",
   "metadata": {},
   "outputs": [
    {
     "data": {
      "text/plain": [
       "dict_keys(['36_edges', '35_edges', '34_edges', '33_edges', '32_edges', '31_edges', '30_edges', '29_edges', '28_edges', '27_edges', '26_edges', '25_edges', '24_edges', '23_edges', '22_edges', '21_edges', '20_edges', '19_edges', '18_edges', '17_edges', '16_edges', '15_edges', '14_edges', '13_edges', '12_edges', '11_edges', '10_edges', '9_edges', '8_edges', '7_edges', '6_edges', '5_edges', '4_edges', '3_edges', '2_edges', '1_edges'])"
      ]
     },
     "execution_count": 11,
     "metadata": {},
     "output_type": "execute_result"
    }
   ],
   "source": [
    "full_uspcm_dict.get('9_verts').keys()"
   ]
  },
  {
   "cell_type": "code",
   "execution_count": 38,
   "id": "dbba98c8-75de-4801-88ce-ee5ebbc15320",
   "metadata": {},
   "outputs": [],
   "source": [
    "spread_dict = {}\n",
    "large_spread = {f'spread_{s}':[] for s in range(1,10)}"
   ]
  },
  {
   "cell_type": "code",
   "execution_count": 40,
   "id": "c47af21b-f27d-485f-85db-427d97d58583",
   "metadata": {},
   "outputs": [
    {
     "ename": "KeyboardInterrupt",
     "evalue": "",
     "output_type": "error",
     "traceback": [
      "\u001b[0;31m---------------------------------------------------------------------------\u001b[0m",
      "\u001b[0;31mKeyboardInterrupt\u001b[0m                         Traceback (most recent call last)",
      "\u001b[0;32m<ipython-input-40-10e0e077d71a>\u001b[0m in \u001b[0;36m<module>\u001b[0;34m\u001b[0m\n\u001b[1;32m      5\u001b[0m             \u001b[0mspec_floor\u001b[0m \u001b[0;34m=\u001b[0m \u001b[0mfull_uspcm_dict\u001b[0m\u001b[0;34m.\u001b[0m\u001b[0mget\u001b[0m\u001b[0;34m(\u001b[0m\u001b[0;34mf'{nn}_verts'\u001b[0m\u001b[0;34m)\u001b[0m\u001b[0;34m.\u001b[0m\u001b[0mget\u001b[0m\u001b[0;34m(\u001b[0m\u001b[0;34mf'{ee}_edges'\u001b[0m\u001b[0;34m)\u001b[0m\u001b[0;34m.\u001b[0m\u001b[0mget\u001b[0m\u001b[0;34m(\u001b[0m\u001b[0mg6_str\u001b[0m\u001b[0;34m)\u001b[0m\u001b[0;34m\u001b[0m\u001b[0;34m\u001b[0m\u001b[0m\n\u001b[1;32m      6\u001b[0m \u001b[0;34m\u001b[0m\u001b[0m\n\u001b[0;32m----> 7\u001b[0;31m             \u001b[0mG\u001b[0m \u001b[0;34m=\u001b[0m \u001b[0mGraph\u001b[0m\u001b[0;34m(\u001b[0m\u001b[0mg6_str\u001b[0m\u001b[0;34m)\u001b[0m\u001b[0;34m\u001b[0m\u001b[0;34m\u001b[0m\u001b[0m\n\u001b[0m\u001b[1;32m      8\u001b[0m             \u001b[0mspread\u001b[0m \u001b[0;34m=\u001b[0m \u001b[0musp_comp\u001b[0m\u001b[0;34m(\u001b[0m\u001b[0mG\u001b[0m\u001b[0;34m)\u001b[0m \u001b[0;34m-\u001b[0m \u001b[0mspec_floor\u001b[0m\u001b[0;34m\u001b[0m\u001b[0;34m\u001b[0m\u001b[0m\n\u001b[1;32m      9\u001b[0m             \u001b[0;32mif\u001b[0m \u001b[0mspread\u001b[0m \u001b[0;34m<\u001b[0m \u001b[0mInteger\u001b[0m\u001b[0;34m(\u001b[0m\u001b[0;36m0\u001b[0m\u001b[0;34m)\u001b[0m\u001b[0;34m:\u001b[0m\u001b[0;34m\u001b[0m\u001b[0;34m\u001b[0m\u001b[0m\n",
      "\u001b[0;32m~/opt/miniconda3/envs/sage/lib/python3.8/site-packages/sage/graphs/graph.py\u001b[0m in \u001b[0;36m__init__\u001b[0;34m(self, data, pos, loops, format, weighted, data_structure, vertex_labels, name, multiedges, convert_empty_dict_labels_to_None, sparse, immutable)\u001b[0m\n\u001b[1;32m   1145\u001b[0m             \u001b[0mself\u001b[0m\u001b[0;34m.\u001b[0m\u001b[0mallow_multiple_edges\u001b[0m\u001b[0;34m(\u001b[0m\u001b[0mmultiedges\u001b[0m \u001b[0;32mif\u001b[0m \u001b[0mmultiedges\u001b[0m \u001b[0;32melse\u001b[0m \u001b[0;32mFalse\u001b[0m\u001b[0;34m,\u001b[0m \u001b[0mcheck\u001b[0m\u001b[0;34m=\u001b[0m\u001b[0;32mFalse\u001b[0m\u001b[0;34m)\u001b[0m\u001b[0;34m\u001b[0m\u001b[0;34m\u001b[0m\u001b[0m\n\u001b[1;32m   1146\u001b[0m             \u001b[0;32mfrom\u001b[0m \u001b[0;34m.\u001b[0m\u001b[0mgraph_input\u001b[0m \u001b[0;32mimport\u001b[0m \u001b[0mfrom_graph6\u001b[0m\u001b[0;34m\u001b[0m\u001b[0;34m\u001b[0m\u001b[0m\n\u001b[0;32m-> 1147\u001b[0;31m             \u001b[0mfrom_graph6\u001b[0m\u001b[0;34m(\u001b[0m\u001b[0mself\u001b[0m\u001b[0;34m,\u001b[0m \u001b[0mdata\u001b[0m\u001b[0;34m)\u001b[0m\u001b[0;34m\u001b[0m\u001b[0;34m\u001b[0m\u001b[0m\n\u001b[0m\u001b[1;32m   1148\u001b[0m \u001b[0;34m\u001b[0m\u001b[0m\n\u001b[1;32m   1149\u001b[0m         \u001b[0;32melif\u001b[0m \u001b[0mformat\u001b[0m \u001b[0;34m==\u001b[0m \u001b[0;34m'sparse6'\u001b[0m\u001b[0;34m:\u001b[0m\u001b[0;34m\u001b[0m\u001b[0;34m\u001b[0m\u001b[0m\n",
      "\u001b[0;32m~/opt/miniconda3/envs/sage/lib/python3.8/site-packages/sage/graphs/graph_input.py\u001b[0m in \u001b[0;36mfrom_graph6\u001b[0;34m(G, g6_string)\u001b[0m\n\u001b[1;32m     52\u001b[0m     \u001b[0mss\u001b[0m \u001b[0;34m=\u001b[0m \u001b[0mg6_string\u001b[0m\u001b[0;34m[\u001b[0m\u001b[0;34m:\u001b[0m\u001b[0mn\u001b[0m\u001b[0;34m]\u001b[0m\u001b[0;34m\u001b[0m\u001b[0;34m\u001b[0m\u001b[0m\n\u001b[1;32m     53\u001b[0m     \u001b[0mn\u001b[0m\u001b[0;34m,\u001b[0m \u001b[0ms\u001b[0m \u001b[0;34m=\u001b[0m \u001b[0mlength_and_string_from_graph6\u001b[0m\u001b[0;34m(\u001b[0m\u001b[0mss\u001b[0m\u001b[0;34m)\u001b[0m\u001b[0;34m\u001b[0m\u001b[0;34m\u001b[0m\u001b[0m\n\u001b[0;32m---> 54\u001b[0;31m     \u001b[0mm\u001b[0m \u001b[0;34m=\u001b[0m \u001b[0mbinary_string_from_graph6\u001b[0m\u001b[0;34m(\u001b[0m\u001b[0ms\u001b[0m\u001b[0;34m,\u001b[0m \u001b[0mn\u001b[0m\u001b[0;34m)\u001b[0m\u001b[0;34m\u001b[0m\u001b[0;34m\u001b[0m\u001b[0m\n\u001b[0m\u001b[1;32m     55\u001b[0m     \u001b[0mexpected\u001b[0m \u001b[0;34m=\u001b[0m \u001b[0mn\u001b[0m\u001b[0;34m*\u001b[0m\u001b[0;34m(\u001b[0m\u001b[0mn\u001b[0m\u001b[0;34m-\u001b[0m\u001b[0;36m1\u001b[0m\u001b[0;34m)\u001b[0m\u001b[0;34m//\u001b[0m\u001b[0;36m2\u001b[0m \u001b[0;34m+\u001b[0m \u001b[0;34m(\u001b[0m\u001b[0;36m6\u001b[0m \u001b[0;34m-\u001b[0m \u001b[0mn\u001b[0m\u001b[0;34m*\u001b[0m\u001b[0;34m(\u001b[0m\u001b[0mn\u001b[0m\u001b[0;34m-\u001b[0m\u001b[0;36m1\u001b[0m\u001b[0;34m)\u001b[0m\u001b[0;34m//\u001b[0m\u001b[0;36m2\u001b[0m\u001b[0;34m)\u001b[0m\u001b[0;34m%\u001b[0m\u001b[0;36m6\u001b[0m\u001b[0;34m\u001b[0m\u001b[0;34m\u001b[0m\u001b[0m\n\u001b[1;32m     56\u001b[0m     \u001b[0;32mif\u001b[0m \u001b[0mlen\u001b[0m\u001b[0;34m(\u001b[0m\u001b[0mm\u001b[0m\u001b[0;34m)\u001b[0m \u001b[0;34m>\u001b[0m \u001b[0mexpected\u001b[0m\u001b[0;34m:\u001b[0m\u001b[0;34m\u001b[0m\u001b[0;34m\u001b[0m\u001b[0m\n",
      "\u001b[0;32msrc/cysignals/signals.pyx\u001b[0m in \u001b[0;36mcysignals.signals.python_check_interrupt\u001b[0;34m()\u001b[0m\n",
      "\u001b[0;31mKeyboardInterrupt\u001b[0m: "
     ]
    }
   ],
   "source": [
    "for nn in range(2, 10):\n",
    "    for ee in range(nn*(nn-1)//2, 1, -1):\n",
    "        for g6_str in full_uspcm_dict.get(f'{nn}_verts').get(f'{ee}_edges'):\n",
    "\n",
    "            spec_floor = full_uspcm_dict.get(f'{nn}_verts').get(f'{ee}_edges').get(g6_str)\n",
    "\n",
    "            G = Graph(g6_str)\n",
    "            spread = usp_comp(G) - spec_floor\n",
    "            if spread < 0:\n",
    "                print('UhOh')\n",
    "                break\n",
    "            \n",
    "            if spread > 0:\n",
    "                spread_dict[g6_str] = spread\n",
    "\n",
    "            if spread > 1:\n",
    "                large_spread[f'spread_{spread}'].append(g6_str)"
   ]
  },
  {
   "cell_type": "code",
   "execution_count": 39,
   "id": "4fa6aee7-88a6-4809-b597-533930deefb8",
   "metadata": {},
   "outputs": [
    {
     "data": {
      "text/plain": [
       "{'spread_1': [],\n",
       " 'spread_2': [],\n",
       " 'spread_3': [],\n",
       " 'spread_4': [],\n",
       " 'spread_5': [],\n",
       " 'spread_6': [],\n",
       " 'spread_7': [],\n",
       " 'spread_8': [],\n",
       " 'spread_9': []}"
      ]
     },
     "execution_count": 39,
     "metadata": {},
     "output_type": "execute_result"
    }
   ],
   "source": [
    "large_spread"
   ]
  },
  {
   "cell_type": "code",
   "execution_count": null,
   "id": "906b06e3-250c-4d57-ab52-2d813dc154ce",
   "metadata": {},
   "outputs": [],
   "source": []
  }
 ],
 "metadata": {
  "kernelspec": {
   "display_name": "SageMath 9.2",
   "language": "sage",
   "name": "sagemath"
  },
  "language_info": {
   "codemirror_mode": {
    "name": "ipython",
    "version": 3
   },
   "file_extension": ".py",
   "mimetype": "text/x-python",
   "name": "python",
   "nbconvert_exporter": "python",
   "pygments_lexer": "ipython3",
   "version": "3.8.12"
  }
 },
 "nbformat": 4,
 "nbformat_minor": 5
}
